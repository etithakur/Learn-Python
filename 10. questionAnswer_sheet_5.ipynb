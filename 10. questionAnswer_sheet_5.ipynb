{
 "cells": [
  {
   "cell_type": "code",
   "execution_count": 2,
   "metadata": {},
   "outputs": [
    {
     "data": {
      "text/plain": [
       "{'Ten': 10, 'Twenty': 20, 'Thirty': 30}"
      ]
     },
     "execution_count": 2,
     "metadata": {},
     "output_type": "execute_result"
    }
   ],
   "source": [
    "# 1. Below are the two lists convert it into the dictionary\n",
    "\n",
    "keys = ['Ten', 'Twenty', 'Thirty']\n",
    "values = [10, 20, 30]\n",
    "\n",
    "dictionary={}\n",
    "\n",
    "for i in range(len(keys)):\n",
    "    dictionary[keys[i]]=values[i]\n",
    "dictionary"
   ]
  },
  {
   "cell_type": "code",
   "execution_count": 13,
   "metadata": {},
   "outputs": [
    {
     "data": {
      "text/plain": [
       "{'Ten': 10, 'Twenty': 20, 'Thirty': 30, 'Fourty': 40, 'Fifty': 50}"
      ]
     },
     "execution_count": 13,
     "metadata": {},
     "output_type": "execute_result"
    }
   ],
   "source": [
    "# 2.Merge following two Python dictionaries into one\n",
    "#keys = ['Ten', 'Twenty', 'Thirty']\n",
    "#values = [10, 20, 30]\n",
    "\n",
    "dict1 = {'Ten': 10, 'Twenty': 20, 'Thirty': 30}\n",
    "dict2 = {'Thirty': 30, 'Fourty': 40, 'Fifty': 50}\n",
    "\n",
    "dict1.update(dict2)\n",
    "dict1"
   ]
  },
  {
   "cell_type": "code",
   "execution_count": 14,
   "metadata": {},
   "outputs": [
    {
     "data": {
      "text/plain": [
       "'Math'"
      ]
     },
     "execution_count": 14,
     "metadata": {},
     "output_type": "execute_result"
    }
   ],
   "source": [
    "# 3.. Get the key corresponding to the minimum value from the following \n",
    "\n",
    "sampleDict = {\n",
    "  'Physics': 82,\n",
    "  'Math': 65,\n",
    "  'history': 75\n",
    "}\n",
    "min(sampleDict)"
   ]
  },
  {
   "cell_type": "code",
   "execution_count": 16,
   "metadata": {},
   "outputs": [
    {
     "data": {
      "text/plain": [
       "{'emp1': {'name': 'Jhon', 'salary': 7500},\n",
       " 'emp2': {'name': 'Emma', 'salary': 8000},\n",
       " 'emp3': {'name': 'Brad', 'salary': 8500}}"
      ]
     },
     "execution_count": 16,
     "metadata": {},
     "output_type": "execute_result"
    }
   ],
   "source": [
    "# 4.Given a Python dictionary, Change Brad’s salary to 8500\n",
    "\n",
    "sampleDict = {\n",
    "     'emp1': {'name': 'Jhon', 'salary': 7500},\n",
    "     'emp2': {'name': 'Emma', 'salary': 8000},\n",
    "     'emp3': {'name': 'Brad', 'salary': 6500}\n",
    "}\n",
    "sampleDict['emp3']['salary']=8500\n",
    "sampleDict"
   ]
  },
  {
   "cell_type": "code",
   "execution_count": 18,
   "metadata": {},
   "outputs": [
    {
     "name": "stdout",
     "output_type": "stream",
     "text": [
      "Enter the number of key value pairs you want to enter: 4\n",
      "Enter key: 1\n",
      "Enter value corresponding to the key:\n",
      "abc\n",
      "Enter key: 2\n",
      "Enter value corresponding to the key:\n",
      "def\n",
      "Enter key: 3\n",
      "Enter value corresponding to the key:\n",
      "ghi\n",
      "Enter key: 4\n",
      "Enter value corresponding to the key:\n",
      "jkl\n"
     ]
    },
    {
     "data": {
      "text/plain": [
       "{'1': 'abc', '2': 'def', '3': 'ghi', '4': 'jkl'}"
      ]
     },
     "execution_count": 18,
     "metadata": {},
     "output_type": "execute_result"
    }
   ],
   "source": [
    "# 5.Taking input from user print a simple dictionary\n",
    "\n",
    "dictionary=dict()\n",
    "num = int(input(\"Enter the number of key value pairs you want to enter: \"))\n",
    "for i in range(num):\n",
    "    key=input(\"Enter key: \")\n",
    "    dictionary[key]=input(\"Enter value corresponding to the key:\\n\")\n",
    "    \n",
    "dictionary"
   ]
  },
  {
   "cell_type": "code",
   "execution_count": 4,
   "metadata": {},
   "outputs": [
    {
     "name": "stdout",
     "output_type": "stream",
     "text": [
      "Enter the number of entries you want to make: 2\n",
      "Enter the name of student: love\n",
      "Enter marks of student love: 98\n",
      "Enter the name of student: sukhs\n",
      "Enter marks of student sukhs: 99\n",
      "Maximum marks are 99 of student sukhs.\n"
     ]
    }
   ],
   "source": [
    "# 6.Create a list having students names and grade, then convert them to dictionary and print the maximum grade and the \n",
    "#student's name scoring maximum grade\n",
    "list_name=[]\n",
    "list_grade=[]\n",
    "name_grade={}\n",
    "entries=int(input(\"Enter the number of entries you want to make: \"))\n",
    "for i in range(entries):\n",
    "    key=input(\"Enter the name of student: \")\n",
    "    name_grade[key]=int(input(\"Enter marks of student {}: \".format(key)))\n",
    "name_with_max_grade=max(name_grade, key=name_grade.get)\n",
    "print(\"Maximum marks are {} of student {}.\".format(name_grade[name_with_max_grade], name_with_max_grade))"
   ]
  },
  {
   "cell_type": "code",
   "execution_count": 31,
   "metadata": {},
   "outputs": [
    {
     "name": "stdout",
     "output_type": "stream",
     "text": [
      "Enter the value to check: 1000\n",
      "Value exists.\n"
     ]
    }
   ],
   "source": [
    "# 7.Create a dictionary and check if a particular values exists or not.\n",
    "\n",
    "dictionary1={}\n",
    "dictionary1={\n",
    "    \"Eti\": '10',\n",
    "    \"Sukhda\":\"1000\",\n",
    "    \"Lappy\":\"500\"\n",
    "}\n",
    "flag=0\n",
    "value=input(\"Enter the value to check: \")\n",
    "for i in dictionary1:\n",
    "    if(value==dictionary1[i]):\n",
    "        print(\"Value exists.\")\n",
    "        flag=1\n",
    "        \n",
    "if(flag==0):\n",
    "    print(\"Value DOES NOT exists.\")"
   ]
  },
  {
   "cell_type": "code",
   "execution_count": 37,
   "metadata": {},
   "outputs": [
    {
     "name": "stdout",
     "output_type": "stream",
     "text": [
      "Enter the key for which you want to delete the key:value pair: abc\n",
      "New dictionary is this:\n",
      " {'def': '2', 'ghi': '3', 'jkl': '4', 'mno': '5'}\n"
     ]
    }
   ],
   "source": [
    "# 8.Create a dictionary and using pop() delete a particular key:value pair.\n",
    "\n",
    "dic={\n",
    "    \"abc\":\"1\",\n",
    "    \"def\":\"2\",\n",
    "    \"ghi\":\"3\",\n",
    "    \"jkl\":\"4\",\n",
    "    \"mno\":\"5\"\n",
    "}\n",
    "key=input(\"Enter the key for which you want to delete the key:value pair: \")\n",
    "dic.pop(key)\n",
    "print(\"New dictionary is this:\\n\",dic)"
   ]
  },
  {
   "cell_type": "code",
   "execution_count": 39,
   "metadata": {},
   "outputs": [
    {
     "name": "stdout",
     "output_type": "stream",
     "text": [
      "Here is the dictionary containing squares of numbers till 6:\n",
      " {1: 1, 2: 4, 3: 9, 4: 16, 5: 25, 6: 36}\n"
     ]
    }
   ],
   "source": [
    "# 9.Using dictionary, print the squares of numbers till 6.\n",
    "\n",
    "dic1={}\n",
    "for i in range(1,7):\n",
    "    dic1[i]=i**2\n",
    "    \n",
    "print(\"Here is the dictionary containing squares of numbers till 6:\\n\",dic1)"
   ]
  },
  {
   "cell_type": "code",
   "execution_count": 44,
   "metadata": {},
   "outputs": [
    {
     "name": "stdout",
     "output_type": "stream",
     "text": [
      "Enter the number of key-value pairs you want to enter: 3\n",
      "Enter any string as key: ac\n",
      "Enter any integer as value: 300\n",
      "Enter any string as key: fe\n",
      "Enter any integer as value: 24\n",
      "Enter any string as key: sd\n",
      "Enter any integer as value: 1\n",
      "Dictionary sorted according to keys is given below:\n",
      " {'ac': 300, 'fe': 24, 'sd': 1}\n"
     ]
    }
   ],
   "source": [
    "# 10.Create a dictionary and perform sorting of key:value pairs\n",
    "\n",
    "dic2={}\n",
    "length=int(input(\"Enter the number of key-value pairs you want to enter: \"))\n",
    "for i in range(length):\n",
    "    key=input(\"Enter any string as key: \")\n",
    "    dic2[key]=int(input(\"Enter any integer as value: \"))\n",
    "    \n",
    "dic={}\n",
    "for i in sorted(dic2):\n",
    "    dic[i]=dic2[i]\n",
    "print(\"Dictionary sorted according to keys is given below:\\n\",dic)"
   ]
  },
  {
   "cell_type": "code",
   "execution_count": null,
   "metadata": {},
   "outputs": [],
   "source": []
  }
 ],
 "metadata": {
  "kernelspec": {
   "display_name": "Python 3",
   "language": "python",
   "name": "python3"
  },
  "language_info": {
   "codemirror_mode": {
    "name": "ipython",
    "version": 3
   },
   "file_extension": ".py",
   "mimetype": "text/x-python",
   "name": "python",
   "nbconvert_exporter": "python",
   "pygments_lexer": "ipython3",
   "version": "3.8.5"
  }
 },
 "nbformat": 4,
 "nbformat_minor": 4
}
