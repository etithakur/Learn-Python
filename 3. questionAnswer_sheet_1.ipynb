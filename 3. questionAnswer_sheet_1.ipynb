{
 "cells": [
  {
   "cell_type": "markdown",
   "metadata": {},
   "source": [
    "### Using WHILE LOOP"
   ]
  },
  {
   "cell_type": "code",
   "execution_count": 39,
   "metadata": {},
   "outputs": [
    {
     "name": "stdout",
     "output_type": "stream",
     "text": [
      "Enter the limit to print natural numbers upto: 9\n",
      "1\n",
      "2\n",
      "3\n",
      "4\n",
      "5\n",
      "6\n",
      "7\n",
      "8\n",
      "9\n"
     ]
    }
   ],
   "source": [
    "# 1.Write a PYTHON program to print the natural numbers upto n\n",
    "\n",
    "num=int(input('Enter the limit to print natural numbers upto: '))\n",
    "i=1\n",
    "while(num>=i):\n",
    "    print(i)\n",
    "    i+=1"
   ]
  },
  {
   "cell_type": "code",
   "execution_count": 40,
   "metadata": {},
   "outputs": [
    {
     "name": "stdout",
     "output_type": "stream",
     "text": [
      "Enter the limit to print even numbers upto: 9\n",
      "2\n",
      "4\n",
      "6\n",
      "8\n"
     ]
    }
   ],
   "source": [
    "# 2.Write a PYTHON program to print even numbers upto n\n",
    "\n",
    "num=int(input('Enter the limit to print even numbers upto: '))\n",
    "i=1\n",
    "while(i<=num):\n",
    "    if(i%2==0):\n",
    "        print(i)\n",
    "    i+=1"
   ]
  },
  {
   "cell_type": "code",
   "execution_count": 2,
   "metadata": {},
   "outputs": [
    {
     "name": "stdout",
     "output_type": "stream",
     "text": [
      "Enter limit to print sum of even numbers upto: 10\n",
      "The sum of even numbers upto 10 is 30.\n"
     ]
    }
   ],
   "source": [
    "# 3.Write a PYTHON program to print sum of even numbers upto n\n",
    "\n",
    "num = int(input('Enter limit to print sum of even numbers upto: '))\n",
    "i=1\n",
    "sum=0\n",
    "while(i<=num):\n",
    "    if(i%2==0):\n",
    "        sum+=i\n",
    "    i+=1\n",
    "print(\"The sum of even numbers upto {} is {}.\".format(num, sum))"
   ]
  },
  {
   "cell_type": "code",
   "execution_count": 3,
   "metadata": {},
   "outputs": [
    {
     "name": "stdout",
     "output_type": "stream",
     "text": [
      "Enter limit to print natural numbers upto n in reverse order: 10\n",
      "Reverse order: \n",
      "10\n",
      "9\n",
      "8\n",
      "7\n",
      "6\n",
      "5\n",
      "4\n",
      "3\n",
      "2\n",
      "1\n"
     ]
    }
   ],
   "source": [
    "# 4.Write a PYTHON program to print natural numbers upto n in reverse order\n",
    "\n",
    "num = int(input('Enter limit to print natural numbers upto n in reverse order: '))\n",
    "print(\"Reverse order: \")\n",
    "while(num>0):\n",
    "    print(num)\n",
    "    num-=1"
   ]
  },
  {
   "cell_type": "code",
   "execution_count": 7,
   "metadata": {},
   "outputs": [
    {
     "name": "stdout",
     "output_type": "stream",
     "text": [
      "Enter the number you want to find the factorial of: 5\n",
      "Factorial of 5 is 120.\n"
     ]
    }
   ],
   "source": [
    "# 5.Write a PYTHON program to find a factorial of given number\n",
    "\n",
    "num = int(input('Enter the number you want to find the factorial of: '))\n",
    "n=num\n",
    "fact=1\n",
    "flag=1\n",
    "if(num==0):\n",
    "    print('Factorial of 0 is 1.')\n",
    "    flag=0\n",
    "    \n",
    "while(num>1):\n",
    "    fact=fact*num\n",
    "    num-=1\n",
    "    \n",
    "    \n",
    "if(flag==1):\n",
    "    print(\"Factorial of {} is {}.\".format(n,fact))"
   ]
  },
  {
   "cell_type": "markdown",
   "metadata": {},
   "source": [
    "### Use FOR LOOP"
   ]
  },
  {
   "cell_type": "code",
   "execution_count": 14,
   "metadata": {},
   "outputs": [
    {
     "name": "stdout",
     "output_type": "stream",
     "text": [
      "Enter the number: -7\n",
      "Not a prime number.\n"
     ]
    }
   ],
   "source": [
    "# 6.Write a PYTHON program to check the entered number is prime or not\n",
    "\n",
    "num=int(input('Enter the number: '))\n",
    "flag=0\n",
    "if(num<=1):\n",
    "    print(\"Not a prime number.\")\n",
    "    flag=1\n",
    "    \n",
    "for i in range(2, (num//2)+1):\n",
    "    if(num%i==0):\n",
    "        print(\"Not a Prime number.\")\n",
    "        flag=1\n",
    "        \n",
    "if(flag==0):\n",
    "    print(\"It is a Prime number.\")"
   ]
  },
  {
   "cell_type": "code",
   "execution_count": 10,
   "metadata": {},
   "outputs": [
    {
     "name": "stdout",
     "output_type": "stream",
     "text": [
      "Enter the number: 1567\n",
      "The sum of digits of 1567 is 19.\n"
     ]
    }
   ],
   "source": [
    "# 7.Write a PYTHON pogram to find the sum of digits of given number\n",
    "\n",
    "num = int(input(\"Enter the number: \"))\n",
    "n=num\n",
    "sum=0\n",
    "for i in range(len(str(n))):\n",
    "    rem=n%10\n",
    "    sum+=rem\n",
    "    n//=10\n",
    "print(\"The sum of digits of {} is {}.\".format(num, sum))"
   ]
  },
  {
   "cell_type": "code",
   "execution_count": 29,
   "metadata": {},
   "outputs": [
    {
     "name": "stdout",
     "output_type": "stream",
     "text": [
      "Enter number: 15\n",
      "1\n",
      "2\n",
      "4\n",
      "8\n",
      "16\n",
      "32\n",
      "64\n",
      "128\n"
     ]
    }
   ],
   "source": [
    "# 8.Write a PYTHON program that prints 1 2 4 8 16 32 ... n^2\n",
    "\n",
    "num= int(input('Enter number: '))\n",
    "for i in range(0, num+1):\n",
    "    if((2**i)>(num*num)):\n",
    "        break\n",
    "    print(2**i)\n",
    "    "
   ]
  },
  {
   "cell_type": "code",
   "execution_count": 37,
   "metadata": {},
   "outputs": [
    {
     "name": "stdout",
     "output_type": "stream",
     "text": [
      "Enter the number of rows you want to print: 5\n",
      "A  \n",
      "A B  \n",
      "A B C  \n",
      "A B C D  \n",
      "A B C D E  \n"
     ]
    }
   ],
   "source": [
    "# Write a PYTHON program to produce following design\n",
    "#  A\n",
    "#  A B\n",
    "#  A B C\n",
    "#  A B C D\n",
    "#  A B C D E\n",
    "# If user enters n value as 5\n",
    "\n",
    "n=int(input('Enter the number of rows you want to print: '))\n",
    "for i in range(n):\n",
    "    char=65\n",
    "    for j in range(0, i+1):\n",
    "        ch=chr(char)\n",
    "        print(ch, end=\" \")\n",
    "        char+=1\n",
    "    print(\" \")"
   ]
  },
  {
   "cell_type": "code",
   "execution_count": 38,
   "metadata": {},
   "outputs": [
    {
     "name": "stdout",
     "output_type": "stream",
     "text": [
      "Enter the number of rows you want to print: 5\n",
      "1  \n",
      "1 2  \n",
      "1 2 3  \n",
      "1 2 3 4  \n",
      "1 2 3 4 5  \n"
     ]
    }
   ],
   "source": [
    "# Write a PYTHON program to produce following design\n",
    "#  1\n",
    "#  1 2\n",
    "#  1 2 3\n",
    "#  1 2 3 4\n",
    "#  1 2 3 4 5\n",
    "# If user enters n value as 5\n",
    "\n",
    "n=int(input('Enter the number of rows you want to print: '))\n",
    "for i in range(n):\n",
    "    num=1\n",
    "    for j in range(0, i+1):\n",
    "        print(num, end=\" \")\n",
    "        num+=1\n",
    "    print(\" \")"
   ]
  },
  {
   "cell_type": "code",
   "execution_count": null,
   "metadata": {},
   "outputs": [],
   "source": []
  }
 ],
 "metadata": {
  "kernelspec": {
   "display_name": "Python 3",
   "language": "python",
   "name": "python3"
  },
  "language_info": {
   "codemirror_mode": {
    "name": "ipython",
    "version": 3
   },
   "file_extension": ".py",
   "mimetype": "text/x-python",
   "name": "python",
   "nbconvert_exporter": "python",
   "pygments_lexer": "ipython3",
   "version": "3.8.5"
  }
 },
 "nbformat": 4,
 "nbformat_minor": 4
}
