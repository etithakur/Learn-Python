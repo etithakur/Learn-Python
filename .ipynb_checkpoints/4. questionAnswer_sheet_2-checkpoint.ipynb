{
 "cells": [
  {
   "cell_type": "code",
   "execution_count": 3,
   "metadata": {},
   "outputs": [
    {
     "name": "stdout",
     "output_type": "stream",
     "text": [
      "Enter number of entries you want to make 1\n",
      "Enter name and marks of 5 subjects out of 10, use comma to seperate values: Sukhda,9,9,9,9,9\n",
      "\n",
      "Name and marks of student  1  are Sukhda 9.0 9.0 9.0 9.0 9.0\n",
      "\n",
      "Total sum and percentage marks of Sukhda are 45.0 and 90.0 \n",
      "\n",
      "Excellent Performance\n"
     ]
    }
   ],
   "source": [
    "# 1.Write a PYTHON program to evalue the student performance\n",
    "# If % is >=90 then Excellent performance\n",
    "# If % is >=80 then Very Good performance\n",
    "# If % is >=60 then average performance\n",
    "# else Poor performance\n",
    "\n",
    "num=int(input(\"Enter number of entries you want to make \"))\n",
    "sum=0\n",
    "\n",
    "for i in range(num):\n",
    "    name,marks1,marks2,marks3,marks4,marks5=input(\"Enter name and marks of 5 subjects out of 10, use comma to seperate values: \").split(sep=\",\")\n",
    "      \n",
    "    marks1=float(marks1)\n",
    "    marks2=float(marks2)\n",
    "    marks3=float(marks3)\n",
    "    marks4=float(marks4)\n",
    "    marks5=float(marks5)\n",
    "    print(\"\\nName and marks of student \",i+1,\" are\", name, marks1,marks2,marks3,marks4,marks5)\n",
    "    sum=marks1+marks2+marks3+marks4+marks5\n",
    "    percent=(sum/50)*100\n",
    "    print(\"\\nTotal sum and percentage marks of {} are {} and {} \\n\".format(name,sum,percent))\n",
    "    \n",
    "    if(percent>=90):\n",
    "        print(\"Excellent Performance\")\n",
    "    elif(percent>=80):\n",
    "        print(\"Very Good performance\")\n",
    "    elif(percent>=60):\n",
    "        print(\"Average performance\")\n",
    "    else:\n",
    "        print(\"Poor performance\")\n"
   ]
  },
  {
   "cell_type": "code",
   "execution_count": 4,
   "metadata": {},
   "outputs": [
    {
     "name": "stdout",
     "output_type": "stream",
     "text": [
      "Enter the year: 2000\n",
      "2000 is a Leap Year.\n"
     ]
    }
   ],
   "source": [
    "# 2.Write a PYTHON program to check a year for leap year\n",
    "\n",
    "year=int(input(\"Enter the year: \"))\n",
    "if(year%4==0):\n",
    "    if(year%100==0):\n",
    "        if(year%400==0):\n",
    "            print(\"{} is a Leap Year.\".format(year))\n",
    "        else:\n",
    "            print(\"{} is NOT a Leap Year.\".format(year))\n",
    "    else:\n",
    "        print(\"{} is a Leap Year.\".format(year))\n",
    "else:\n",
    "    print(\"{} is NOT a Leap Year.\".format(year))"
   ]
  },
  {
   "cell_type": "code",
   "execution_count": 11,
   "metadata": {},
   "outputs": [
    {
     "name": "stdout",
     "output_type": "stream",
     "text": [
      "What is your marital status? Type 'm' if you are married else type any key other than 'm': s\n",
      "What is your gender? Type 'm' for Male and 'f' for female: f\n",
      "Enter your age: 26\n",
      "Driver is eligible for insurance.\n"
     ]
    }
   ],
   "source": [
    "# 3. A company insures its drivers in the following cases:\n",
    "# -If the driver is married.\n",
    "# -If the driver is unmarried, male and above 30 years of age.\n",
    "# -If the driver is unmarried, female and above 25 years of age.\n",
    "\n",
    "marital_status=input(\"What is your marital status? Type 'm' if you are married else type any key other than 'm': \")\n",
    "gender=input(\"What is your gender? Type 'm' for Male and 'f' for female: \")\n",
    "age=int(input('Enter your age: '))\n",
    "if(marital_status=='m'):\n",
    "    print('Driver is eligible for insurance.')\n",
    "else:\n",
    "    if((gender=='m' and age>30) or (gender=='f' and age>25)):\n",
    "        print('Driver is eligible for insurance.')\n",
    "    else:\n",
    "        print(\"Driver is NOT eligible for insurance.\")"
   ]
  },
  {
   "cell_type": "code",
   "execution_count": 15,
   "metadata": {},
   "outputs": [
    {
     "name": "stdout",
     "output_type": "stream",
     "text": [
      "Enter your salary: 100000\n",
      "Enter your year of service: 2020\n",
      "You are NOT eligible for the bonus.\n"
     ]
    }
   ],
   "source": [
    "# 4.A company decided to give bonus of 5% to employee if his/her year of service is more than 5 years. Ask user for their salary\n",
    "# and year of service and print the net bonus amount\n",
    "\n",
    "salary=float(input(\"Enter your salary: \"))\n",
    "year_of_service=int(input(\"Enter your year of service: \"))\n",
    "if((2021-year_of_service)>5):\n",
    "    print(\"Your net bonus amount is {}.\".format((salary)*5/100))\n",
    "else:\n",
    "    print(\"You are NOT eligible for the bonus.\")"
   ]
  },
  {
   "cell_type": "code",
   "execution_count": 17,
   "metadata": {},
   "outputs": [
    {
     "name": "stdout",
     "output_type": "stream",
     "text": [
      "Enter a string: nkjn43'/\n",
      "Number of digits in string nkjn43'/ are 2\n",
      "Number of letters in string nkjn43'/ are 4\n"
     ]
    }
   ],
   "source": [
    "# 5. Program that accepts a string and calculate the number of digits and letters\n",
    "\n",
    "string= input(\"Enter a string: \")\n",
    "countL=0\n",
    "countD=0\n",
    "for i in string:\n",
    "    if(i.isalpha()):\n",
    "        countL+=1\n",
    "    elif(i.isdigit()):\n",
    "        countD+=1\n",
    "print(\"Number of digits in string {} are {}\".format(string, countD))\n",
    "print(\"Number of letters in string {} are {}\".format(string, countL))"
   ]
  },
  {
   "cell_type": "code",
   "execution_count": 22,
   "metadata": {},
   "outputs": [
    {
     "name": "stdout",
     "output_type": "stream",
     "text": [
      "Enter the first side of the triangle: 9\n",
      "Enter the second side of the triangle: 9\n",
      "Enter the third side of the triangle: 7\n",
      "It is an Isosceles triangle.\n"
     ]
    }
   ],
   "source": [
    "# 6.Program to check a triangle is equilateral, isosceles or scalene\n",
    "# Note:\n",
    "# An equilateral triangle is a triangle in which all three sides are equal.\n",
    "# A scalene triangle is a triangle that has 3 unequal sides.\n",
    "# An isosceles triangle is a triangle with(atleast) 2 equal sides.\n",
    "\n",
    "one=int(input(\"Enter the first side of the triangle: \"))\n",
    "two=int(input(\"Enter the second side of the triangle: \"))\n",
    "three=int(input(\"Enter the third side of the triangle: \"))\n",
    "if(one==two and two==three):\n",
    "    print(\"It is an Equilateral triangle.\")\n",
    "elif(one!=two and two!=three and three!=one):\n",
    "    print(\"It is a Scalene triangle.\")\n",
    "else:\n",
    "    print(\"It is an Isosceles triangle.\")"
   ]
  },
  {
   "cell_type": "code",
   "execution_count": 25,
   "metadata": {},
   "outputs": [
    {
     "name": "stdout",
     "output_type": "stream",
     "text": [
      "Enter units: 300\n",
      "2500\n"
     ]
    }
   ],
   "source": [
    "# 7.Program to calculate the electricity bill(accept number of unit from user)according to the following criteria:\n",
    "# Unit                 Price\n",
    "#First 100 units       no charge\n",
    "#Next 100 units        rupees 5 per unit\n",
    "#After 200 units       rupees 10 per unit\n",
    "\n",
    "units = int(input(\"Enter units: \"))\n",
    "if(units<=100):\n",
    "    print(\"No Charge.\")\n",
    "elif(units<=200):\n",
    "    print((units-100)*5)\n",
    "else:\n",
    "    print((100*5)+(units-200)*10)"
   ]
  },
  {
   "cell_type": "code",
   "execution_count": 6,
   "metadata": {},
   "outputs": [
    {
     "name": "stdout",
     "output_type": "stream",
     "text": [
      "Enter the cost price of the bike: 50000\n",
      "Road tax to be paid is 2500.0 \n"
     ]
    }
   ],
   "source": [
    "# 8.Program to accept the cost price of a bike and display the road tax to be paid according to the following criteria:\n",
    "# Cost price(in Rs. )                                   Tax\n",
    "# >100000                                              15%\n",
    "# >50000 and <=100000                                  10%\n",
    "# <=50000                                              5%\n",
    "\n",
    "cost_of_bike=int(input(\"Enter the cost price of the bike: \"))\n",
    "if(cost_of_bike>100000):\n",
    "    print(\"Road tax to be paid is {} \".format((cost_of_bike/100)*15))\n",
    "elif(cost_of_bike<=100000 and cost_of_bike>50000):\n",
    "    print(\"Road tax to be paid is {} \".format((cost_of_bike/100)*10))\n",
    "else:\n",
    "    print(\"Road tax to be paid is {} \".format((cost_of_bike/100)*5))"
   ]
  },
  {
   "cell_type": "code",
   "execution_count": null,
   "metadata": {},
   "outputs": [],
   "source": []
  }
 ],
 "metadata": {
  "kernelspec": {
   "display_name": "Python 3",
   "language": "python",
   "name": "python3"
  },
  "language_info": {
   "codemirror_mode": {
    "name": "ipython",
    "version": 3
   },
   "file_extension": ".py",
   "mimetype": "text/x-python",
   "name": "python",
   "nbconvert_exporter": "python",
   "pygments_lexer": "ipython3",
   "version": "3.8.5"
  }
 },
 "nbformat": 4,
 "nbformat_minor": 4
}
