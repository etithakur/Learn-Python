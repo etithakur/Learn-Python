{
 "cells": [
  {
   "cell_type": "code",
   "execution_count": 8,
   "metadata": {},
   "outputs": [
    {
     "data": {
      "text/plain": [
       "[34, 'jojo', 91, 'sky']"
      ]
     },
     "execution_count": 8,
     "metadata": {},
     "output_type": "execute_result"
    }
   ],
   "source": [
    "# 1.From the created list, remove the last element\n",
    "\n",
    "lst=list()\n",
    "lst.append(34)\n",
    "lst.append(\"jojo\")\n",
    "lst.append(91)\n",
    "lst.append(\"sky\")\n",
    "lst"
   ]
  },
  {
   "cell_type": "code",
   "execution_count": 9,
   "metadata": {},
   "outputs": [
    {
     "data": {
      "text/plain": [
       "'sky'"
      ]
     },
     "execution_count": 9,
     "metadata": {},
     "output_type": "execute_result"
    }
   ],
   "source": [
    "lst.pop()"
   ]
  },
  {
   "cell_type": "code",
   "execution_count": 12,
   "metadata": {},
   "outputs": [
    {
     "name": "stdout",
     "output_type": "stream",
     "text": [
      "Enter the string: something\n",
      "The length of the string is 9.\n"
     ]
    }
   ],
   "source": [
    "# 2.Counting the length of string using for loop(don't use len())\n",
    "\n",
    "string=input(\"Enter the string: \")\n",
    "count=0\n",
    "for i in string:\n",
    "    count+=1\n",
    "print(\"The length of the string is {}.\".format(count))"
   ]
  },
  {
   "cell_type": "code",
   "execution_count": 22,
   "metadata": {},
   "outputs": [
    {
     "name": "stdout",
     "output_type": "stream",
     "text": [
      "Enter the element to find its occurence: 5\n",
      "The occurence of 5 in this list is 2\n"
     ]
    }
   ],
   "source": [
    "# 3.Count the occurence of a particular element in a list\n",
    "\n",
    "my_list=list()\n",
    "my_list=[434,76,21,\"lol\", 5 , 5, 9, 0, 76, 434, \"lol\", \"okay\", 21, \"bye\"]\n",
    "\n",
    "element=input(\"Enter the element to find its occurence: \")\n",
    "count=0\n",
    "\n",
    "#finding the datatype of the element of the list\n",
    "if(element.isdigit()):\n",
    "    ele=int(element)\n",
    "if(element.isalpha()):\n",
    "    ele=element\n",
    "\n",
    "for i in my_list:\n",
    "    if(ele==i):\n",
    "        count+=1\n",
    "print(\"The occurence of {} in this list is {}\".format(ele,count))"
   ]
  },
  {
   "cell_type": "code",
   "execution_count": 23,
   "metadata": {},
   "outputs": [
    {
     "name": "stdout",
     "output_type": "stream",
     "text": [
      "[(43, 976), (567, 2), (2, 8), (6, 2), (2, 2), (5, 'ignite'), ('light', 4)]\n"
     ]
    }
   ],
   "source": [
    "# 4.Create a zip of lists.\n",
    "\n",
    "list1=list()\n",
    "list2=list()\n",
    "\n",
    "list1=[43,567,2,6,2,5,\"light\"]\n",
    "list2=[976,2,8,2,2,\"ignite\",4]\n",
    "\n",
    "list_name=zip(list1, list2)\n",
    "final_list=list(list_name)\n",
    "print(final_list)"
   ]
  },
  {
   "cell_type": "code",
   "execution_count": 5,
   "metadata": {},
   "outputs": [
    {
     "name": "stdout",
     "output_type": "stream",
     "text": [
      "Enter the number of items you want to add in this list: 5\n",
      "Enter items:\n",
      "1\n",
      "2\n",
      "3\n",
      "4\n",
      "5\n",
      "The median of the list is: 3.\n"
     ]
    }
   ],
   "source": [
    "# 5. Taking a sorted list. Write a program to find its median\n",
    "\n",
    "lst=[]\n",
    "num=int(input(\"Enter the number of items you want to add in this list: \"))\n",
    "print(\"Enter items:\")\n",
    "\n",
    "for i in range(num):\n",
    "    lst.append(int(input()))\n",
    "    \n",
    "lst.sort()\n",
    "length=len(lst)\n",
    "index=(length-1)//2\n",
    "if(length%2==0):\n",
    "    print(\"The median of the list is: {}.\".format((lst[index]+lst[index+1])/2))\n",
    "else:\n",
    "    print(\"The median of the list is: {}.\".format(lst[index]))"
   ]
  },
  {
   "cell_type": "code",
   "execution_count": 6,
   "metadata": {},
   "outputs": [
    {
     "data": {
      "text/plain": [
       "[9, 49, 9, 0, 9, 361, 1, 25]"
      ]
     },
     "execution_count": 6,
     "metadata": {},
     "output_type": "execute_result"
    }
   ],
   "source": [
    "# 6. Given a Python list. Turn every item of a list into its square\n",
    "\n",
    "list0=[3,7,3,0,3,19,1,5]\n",
    "for i in range(len(list0)):\n",
    "    list0[i]=list0[i]**2\n",
    "list0"
   ]
  },
  {
   "cell_type": "code",
   "execution_count": 8,
   "metadata": {},
   "outputs": [
    {
     "data": {
      "text/plain": [
       "[1, 5, 200, 5, 20, 50, 2, 22]"
      ]
     },
     "execution_count": 8,
     "metadata": {},
     "output_type": "execute_result"
    }
   ],
   "source": [
    "# 7.Given a Python list, find value 20 in the list, and if it is present, replace it with 200. Only update the first occurrence \n",
    "# of a value\n",
    "\n",
    "list1=[1,5,20,5,20,50,2,22]\n",
    "for i in range(len(list1)):\n",
    "    if list1[i]==20:\n",
    "        list1[i]=200\n",
    "        break\n",
    "list1"
   ]
  },
  {
   "cell_type": "code",
   "execution_count": 12,
   "metadata": {},
   "outputs": [
    {
     "name": "stdout",
     "output_type": "stream",
     "text": [
      "Enter the length of the list: 4\n",
      "Enter elements: \n",
      "3\n",
      "67\n",
      "3\n",
      "0\n",
      "List of even items is below:\n",
      " [0]\n",
      "List of odd items is below:\n",
      " [3, 67, 3]\n"
     ]
    }
   ],
   "source": [
    "# 8. Python program to put even and odd elements in a list into two different lists\n",
    "\n",
    "list2=[]\n",
    "num=int(input(\"Enter the length of the list: \"))\n",
    "print(\"Enter elements: \")\n",
    "for i in range(num):\n",
    "    list2.append(int(input()))\n",
    "    \n",
    "list_even=[]\n",
    "list_odd=[]\n",
    "for i in range(num):\n",
    "    if(list2[i]%2==0):\n",
    "        list_even.append(list2[i])\n",
    "    else:\n",
    "        list_odd.append(list2[i])\n",
    "print(\"List of even items is below:\\n\",list_even)\n",
    "print(\"List of odd items is below:\\n\",list_odd)"
   ]
  },
  {
   "cell_type": "code",
   "execution_count": 14,
   "metadata": {},
   "outputs": [
    {
     "name": "stdout",
     "output_type": "stream",
     "text": [
      "Enter the length of the list: 3\n",
      "Enter items: \n",
      "eti\n",
      "sukhda\n",
      "peace\n",
      "Maximum length is: 6\n"
     ]
    }
   ],
   "source": [
    "# 9. Python program to read a list of words and return the length of the longest one.\n",
    "\n",
    "list3=[]\n",
    "num=int(input(\"Enter the length of the list: \"))\n",
    "print(\"Enter items: \")\n",
    "for i in range(num):\n",
    "    list3.append(input())\n",
    "    \n",
    "max_length=0\n",
    "length=0\n",
    "for i in range(num):\n",
    "    length=len(list3[i])\n",
    "    if(length>max_length):\n",
    "        max_length=length\n",
    "print(\"Maximum length is:\", max_length)"
   ]
  }
 ],
 "metadata": {
  "kernelspec": {
   "display_name": "Python 3",
   "language": "python",
   "name": "python3"
  },
  "language_info": {
   "codemirror_mode": {
    "name": "ipython",
    "version": 3
   },
   "file_extension": ".py",
   "mimetype": "text/x-python",
   "name": "python",
   "nbconvert_exporter": "python",
   "pygments_lexer": "ipython3",
   "version": "3.8.5"
  }
 },
 "nbformat": 4,
 "nbformat_minor": 4
}
