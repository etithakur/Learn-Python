{
 "cells": [
  {
   "cell_type": "code",
   "execution_count": 3,
   "metadata": {},
   "outputs": [
    {
     "name": "stdout",
     "output_type": "stream",
     "text": [
      "Please enter age 1: 19\n",
      "Please enter age 2: 21\n",
      "Addition of age1 19 and age2 21 is: 40.\n"
     ]
    }
   ],
   "source": [
    "# 1.Write a function that takes two age values as integers, adds them up and returns the result as an integer\n",
    "\n",
    "def input_age(age1, age2):\n",
    "    return age1+age2\n",
    "\n",
    "age1=int(input(\"Please enter age 1: \"))\n",
    "age2=int(input(\"Please enter age 2: \"))\n",
    "result=input_age(age1, age2)\n",
    "print(\"Addition of age1 {} and age2 {} is: {}.\".format(age1,age2, result))"
   ]
  },
  {
   "cell_type": "code",
   "execution_count": 6,
   "metadata": {},
   "outputs": [
    {
     "name": "stdout",
     "output_type": "stream",
     "text": [
      "Enter the length in feet: 100\n",
      "100 feet is equivalent to 1200 inches.\n"
     ]
    }
   ],
   "source": [
    "# 2.Write a function that converts feet to inches. It should accept a number of feet as an argument and return the equivalent \n",
    "#number of inches.\n",
    "\n",
    "def feet_to_inches(feet):\n",
    "    inch=12*feet\n",
    "    return round(inch,3)\n",
    "\n",
    "feet=int(input(\"Enter the length in feet: \"))\n",
    "inch=feet_to_inches(feet)\n",
    "print(\"{} feet is equivalent to {} inches.\".format(feet, inch))"
   ]
  },
  {
   "cell_type": "code",
   "execution_count": 7,
   "metadata": {},
   "outputs": [
    {
     "name": "stdout",
     "output_type": "stream",
     "text": [
      "Enter first value: 564\n",
      "Enter second value: 42345\n",
      "42345 is greater in both the given values.\n"
     ]
    }
   ],
   "source": [
    "# 3.Write a function named \"maximum\" that accepts two integer values and returns the one that the greater of the two to the \n",
    "#calling program\n",
    "\n",
    "def maximum(num1, num2):\n",
    "    return max(num1, num2)\n",
    "num1=int(input(\"Enter first value: \"))\n",
    "num2=int(input(\"Enter second value: \"))\n",
    "num=maximum(num1, num2)\n",
    "print(\"{} is greater in both the given values.\".format(num))"
   ]
  },
  {
   "cell_type": "code",
   "execution_count": 12,
   "metadata": {},
   "outputs": [
    {
     "name": "stdout",
     "output_type": "stream",
     "text": [
      "Enter the radius of the circle: 4\n",
      "Area of circle with radius 4 is 50.24.\n",
      "Perimeter of circle with radius 4 is 25.12.\n"
     ]
    }
   ],
   "source": [
    "# 4.Write two functions to find:\n",
    "# Area of circle\n",
    "# Perimeter of circle\n",
    "\n",
    "def area_of_circle(r):\n",
    "    print(\"Area of circle with radius {} is {}.\".format(r,round((pi*(r**2)),3)))\n",
    "    \n",
    "def perimeter_of_circle(r):\n",
    "    print(\"Perimeter of circle with radius {} is {}.\".format(r, round((2*pi*r),3)))\n",
    "    \n",
    "radius=int(input(\"Enter the radius of the circle: \"))\n",
    "pi=3.14\n",
    "area_of_circle(radius)\n",
    "perimeter_of_circle(radius)"
   ]
  },
  {
   "cell_type": "code",
   "execution_count": 1,
   "metadata": {},
   "outputs": [
    {
     "name": "stdout",
     "output_type": "stream",
     "text": [
      "Enter the total amount you have to pay: 500\n",
      "Enter the tip percent you paid: 36\n",
      "The total bill is: 500\n",
      "Tip is 75.0 rupees atleast.\n",
      "\n",
      "Dear customer,\n",
      "We would be glad if you might want to leave a little more on the table(atleast 75.0 rupees).\n",
      "Thank you\n"
     ]
    }
   ],
   "source": [
    "# 5. Write a function that accepts a restaurant check and a tip %. Print out the tip that should be left on the table as well \n",
    "#as the total bill. If the tip is less than 15%, you should tell the user that they might want to leave a little more on the\n",
    "#table\n",
    "\n",
    "def billing_restaurant(check, tip_percent):\n",
    "    final_tip_percent=check*(15/100)\n",
    "    print(\"The total bill is: {}\\nTip is {} rupees atleast.\".format(check, final_tip_percent))\n",
    "    if(final_tip_percent>tip_percent):\n",
    "        print(\"\\nDear customer,\\nWe would be glad if you might want to leave a little more on the table(atleast {} rupees).\\nThank you\".format(final_tip_percent))\n",
    "\n",
    "check=int(input(\"Enter the total amount you have to pay: \"))\n",
    "tip_percent=float(input(\"Enter the tip percent you paid: \"))\n",
    "billing_restaurant(check, tip_percent)"
   ]
  },
  {
   "cell_type": "code",
   "execution_count": 24,
   "metadata": {},
   "outputs": [
    {
     "name": "stdout",
     "output_type": "stream",
     "text": [
      "Enter the price of the item: 2000\n",
      "The starting price of the item is 2000 and the discounted price is 1600.0.\n"
     ]
    }
   ],
   "source": [
    "# 6.Prompt the user for an item price(using a function). Apply a 20% discount to the price(using a function). Print the \n",
    "#starting price and the discounted price.\n",
    "\n",
    "def input_price():\n",
    "    item_price=int(input(\"Enter the price of the item: \"))\n",
    "    return item_price\n",
    "\n",
    "def discount(item_price):\n",
    "    print(\"The starting price of the item is {} and the discounted price is {}.\".format(item_price, (item_price-(20/100)*item_price)))\n",
    "    \n",
    "item_price=input_price()\n",
    "discount(item_price)"
   ]
  },
  {
   "cell_type": "code",
   "execution_count": null,
   "metadata": {},
   "outputs": [],
   "source": []
  }
 ],
 "metadata": {
  "kernelspec": {
   "display_name": "Python 3",
   "language": "python",
   "name": "python3"
  },
  "language_info": {
   "codemirror_mode": {
    "name": "ipython",
    "version": 3
   },
   "file_extension": ".py",
   "mimetype": "text/x-python",
   "name": "python",
   "nbconvert_exporter": "python",
   "pygments_lexer": "ipython3",
   "version": "3.8.5"
  }
 },
 "nbformat": 4,
 "nbformat_minor": 4
}
