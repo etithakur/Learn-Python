{
 "cells": [
  {
   "cell_type": "code",
   "execution_count": null,
   "metadata": {},
   "outputs": [],
   "source": [
    "#Using Dictionaries\n",
    "\n",
    "#• Dictionary: A mutable collection of key-value pairs\n",
    "\n",
    "#• Like tuple and list, dictionary is another built-in type\n",
    "\n",
    "#• Unlike tuples and lists, dictionaries don't organize data into\n",
    "\n",
    "#sequences, but pairs \n",
    "#• Works like actual dictionary; look up one thing to get another\n",
    "\n",
    "#• Look up a key to get a value\n",
    "\n",
    "#Creating Dictionaries\n",
    "\n",
    "#geek = {\"404\" :\"clueless\", \"Uninstalled\" : \"being fired.\"}\n",
    "\n",
    "#• Creates new dictionary called geek\n",
    "\n",
    "#geek has two entries or items (or elements))\n",
    "\n",
    "#• Each item is made up of a key and a value\n",
    "\n",
    "# 404 is a key of one item; use it to look up value \"clueless\"\n",
    "#• Create dictionary by pairing values with colon, separated by commas,\n",
    "\n",
    "#surrounded by curly braces\n",
    "\n",
    "#Using a Key to Retrieve a Value\n",
    "\n",
    "#>>> geek [\"404\"]\n",
    "#'clueless.'\n",
    "\n",
    "#>>> geek[\"Uninstalled\"]\n",
    "#'being fired.''\n",
    "\n",
    "#• Use key as index to get value\n",
    "\n",
    "#• Cannot use value as index to get key .\n",
    "\n",
    "#Using non-existent key as index produces error\n",
    "#Dictionaries don't have position numbers-no order\n",
    "\n",
    "\n",
    "#Testing for a Key with the in Operator\n",
    "\n",
    "#>>>if \"Dancing Baloney\" in geek:\n",
    "#        print \"I know what Dancing Baloney is.\"\n",
    "# else:\n",
    "#       print \"I have no idea what Dancing Baloney is.\"\n",
    "\n",
    "#I have no idea what Dancing Baloney is\n",
    "\n",
    "#• Use the in operator to test for key\n",
    "\n",
    "#• Condition is true if key exists in dictionary, false otherwise\n",
    "#in operator can't be used to test for dictionary values\n",
    "\n",
    "\n",
    "\n",
    "#The Dictionary get () Method \n",
    "\n",
    "#>>> geek.get (\"404\")\n",
    "#'clueless.'\n",
    "#>>> geek.get (\"Dancing Baloney\") \n",
    "#None \n",
    "#>>> geek.get (\"Dancing Baloney\", \"I have no idea.\")\n",
    "\n",
    "#'I have no idea.''\n",
    "\n",
    "#• Used for retrieving value based on key\n",
    "\n",
    "#Has built-in safety net for handling non-existent key\n",
    "\n",
    "      #If key exists, returns associated value \n",
    "      #• If key doesn't exist, returns a default, program-provided value (or None if no default is provided)\n",
    "\n",
    "        \n",
    "        \n",
    "        \n",
    "#Adding a Key-Value Pair\n",
    "\n",
    "#geek[\"Link Rot\"]= \"process by which web page links become obsolete.\"\n",
    "\n",
    "\n",
    "#• Dictionaries are mutable\n",
    "\n",
    "#• Add item by assigning value to dictionary indexed by key \n",
    "#• Overwrites current entry if key already exists in dictionary\n",
    "\n",
    "\n",
    "\n",
    "#Deleting a Key-Value Pair\n",
    "\n",
    "#del geek [\"404\"]\n",
    "\n",
    "#• Removes key-value pair if key exists\n",
    "\n",
    "#Generates error if key doesn't exist\n",
    "\n",
    "#Dictionary Requirements\n",
    "\n",
    "#• Keys\n",
    "\n",
    "#Must be unique\n",
    "\n",
    "#• Must be immutable\n",
    "\n",
    "#• Values\n",
    "\n",
    "#. Can be mutable or immutable. \n",
    "#• Doesn't have to be unique\n"
   ]
  },
  {
   "cell_type": "code",
   "execution_count": 1,
   "metadata": {},
   "outputs": [
    {
     "name": "stdout",
     "output_type": "stream",
     "text": [
      "{}\n",
      "<class 'dict'>\n"
     ]
    }
   ],
   "source": [
    "# creating empty dictionaries\n",
    "\n",
    "d=dict()\n",
    "print(d)\n",
    "print(type(d))"
   ]
  },
  {
   "cell_type": "code",
   "execution_count": 3,
   "metadata": {},
   "outputs": [
    {
     "name": "stdout",
     "output_type": "stream",
     "text": [
      "{}\n",
      "<class 'dict'>\n"
     ]
    }
   ],
   "source": [
    "d1={}\n",
    "print(d1)\n",
    "print(type(d1))"
   ]
  },
  {
   "cell_type": "code",
   "execution_count": 4,
   "metadata": {},
   "outputs": [
    {
     "data": {
      "text/plain": [
       "{1: 'hello'}"
      ]
     },
     "execution_count": 4,
     "metadata": {},
     "output_type": "execute_result"
    }
   ],
   "source": [
    "d1[1]=\"hello\"\n",
    "d1"
   ]
  },
  {
   "cell_type": "code",
   "execution_count": 6,
   "metadata": {},
   "outputs": [
    {
     "data": {
      "text/plain": [
       "{1: 'hello', 2: 123, 'ed': 233, 3: [5, 6, 7], 4: 7.89}"
      ]
     },
     "execution_count": 6,
     "metadata": {},
     "output_type": "execute_result"
    }
   ],
   "source": [
    "d1[2]=123\n",
    "d1['ed']=233\n",
    "d1[3]=[5,6,7]\n",
    "d1[4]=7.89\n",
    "d1"
   ]
  },
  {
   "cell_type": "code",
   "execution_count": 7,
   "metadata": {},
   "outputs": [
    {
     "data": {
      "text/plain": [
       "{1: 'hello', 2: 'vb', 'ed': 233, 3: [5, 6, 7], 4: 7.89}"
      ]
     },
     "execution_count": 7,
     "metadata": {},
     "output_type": "execute_result"
    }
   ],
   "source": [
    "d1[2]=\"vb\"\n",
    "d1"
   ]
  },
  {
   "cell_type": "code",
   "execution_count": 8,
   "metadata": {},
   "outputs": [
    {
     "data": {
      "text/plain": [
       "dict_keys([1, 2, 'ed', 3, 4])"
      ]
     },
     "execution_count": 8,
     "metadata": {},
     "output_type": "execute_result"
    }
   ],
   "source": [
    "# to extract only keys\n",
    "d1.keys()"
   ]
  },
  {
   "cell_type": "code",
   "execution_count": 9,
   "metadata": {},
   "outputs": [
    {
     "data": {
      "text/plain": [
       "dict_values(['hello', 'vb', 233, [5, 6, 7], 7.89])"
      ]
     },
     "execution_count": 9,
     "metadata": {},
     "output_type": "execute_result"
    }
   ],
   "source": [
    "# to extract only values\n",
    "d1.values()"
   ]
  },
  {
   "cell_type": "code",
   "execution_count": 10,
   "metadata": {},
   "outputs": [
    {
     "data": {
      "text/plain": [
       "dict_items([(1, 'hello'), (2, 'vb'), ('ed', 233), (3, [5, 6, 7]), (4, 7.89)])"
      ]
     },
     "execution_count": 10,
     "metadata": {},
     "output_type": "execute_result"
    }
   ],
   "source": [
    "#to extract both keys and values\n",
    "d1.items()"
   ]
  },
  {
   "cell_type": "code",
   "execution_count": 11,
   "metadata": {},
   "outputs": [
    {
     "data": {
      "text/plain": [
       "'vb'"
      ]
     },
     "execution_count": 11,
     "metadata": {},
     "output_type": "execute_result"
    }
   ],
   "source": [
    "d1[2]"
   ]
  },
  {
   "cell_type": "code",
   "execution_count": 12,
   "metadata": {},
   "outputs": [
    {
     "ename": "KeyError",
     "evalue": "7",
     "output_type": "error",
     "traceback": [
      "\u001b[1;31m---------------------------------------------------------------------------\u001b[0m",
      "\u001b[1;31mKeyError\u001b[0m                                  Traceback (most recent call last)",
      "\u001b[1;32m<ipython-input-12-8217d3bc3b42>\u001b[0m in \u001b[0;36m<module>\u001b[1;34m\u001b[0m\n\u001b[1;32m----> 1\u001b[1;33m \u001b[0md1\u001b[0m\u001b[1;33m[\u001b[0m\u001b[1;36m7\u001b[0m\u001b[1;33m]\u001b[0m\u001b[1;33m\u001b[0m\u001b[1;33m\u001b[0m\u001b[0m\n\u001b[0m",
      "\u001b[1;31mKeyError\u001b[0m: 7"
     ]
    }
   ],
   "source": [
    "d1[7]\n",
    "# '7' key does not exist in dictionary d1 that's why it gives KeyError"
   ]
  },
  {
   "cell_type": "code",
   "execution_count": 15,
   "metadata": {},
   "outputs": [
    {
     "data": {
      "text/plain": [
       "'Key does not exists'"
      ]
     },
     "execution_count": 15,
     "metadata": {},
     "output_type": "execute_result"
    }
   ],
   "source": [
    "d1.get(7,\"Key does not exists.\")"
   ]
  },
  {
   "cell_type": "code",
   "execution_count": 16,
   "metadata": {},
   "outputs": [
    {
     "name": "stdout",
     "output_type": "stream",
     "text": [
      "{'brand': 'Ford', 'electric': False, 'year': 1932, 'colors': ['red', 'white', 'blue']}\n"
     ]
    }
   ],
   "source": [
    "thisdict={\n",
    "    \"brand\":\"Ford\",\n",
    "    \"electric\":False,\n",
    "    \"year\":1932,\n",
    "    \"colors\": [\"red\", \"white\", \"blue\"]\n",
    "}\n",
    "print(thisdict)\n",
    "\n",
    "\n"
   ]
  },
  {
   "cell_type": "code",
   "execution_count": 21,
   "metadata": {},
   "outputs": [
    {
     "data": {
      "text/plain": [
       "'white'"
      ]
     },
     "execution_count": 21,
     "metadata": {},
     "output_type": "execute_result"
    }
   ],
   "source": [
    "thisdict[\"colors\"][1]\n"
   ]
  },
  {
   "cell_type": "code",
   "execution_count": 22,
   "metadata": {},
   "outputs": [
    {
     "name": "stdout",
     "output_type": "stream",
     "text": [
      "{'child1': {'name': 'Emil', 'year': 2004}, 'child2': {'name': 'Tobias', 'year': 2007}, 'child3': {'name': 'Linus', 'year': 2011}}\n",
      "\n",
      "\n",
      "dict_keys(['child1', 'child2', 'child3'])\n",
      "\n",
      "\n",
      "dict_values([{'name': 'Emil', 'year': 2004}, {'name': 'Tobias', 'year': 2007}, {'name': 'Linus', 'year': 2011}])\n",
      "\n",
      "\n",
      "dict_items([('child1', {'name': 'Emil', 'year': 2004}), ('child2', {'name': 'Tobias', 'year': 2007}), ('child3', {'name': 'Linus', 'year': 2011})])\n"
     ]
    }
   ],
   "source": [
    "#Create a dictionary that contain three dictionaries:\n",
    "\n",
    "myfamily = {\n",
    "  \"child1\" : {\n",
    "    \"name\" : \"Emil\",\n",
    "    \"year\" : 2004\n",
    "  },\n",
    "  \"child2\" : {\n",
    "    \"name\" : \"Tobias\",\n",
    "    \"year\" : 2007\n",
    "  },\n",
    "  \"child3\" : {\n",
    "    \"name\" : \"Linus\",\n",
    "    \"year\" : 2011\n",
    "  }\n",
    "}\n",
    "\n",
    "print(myfamily)\n",
    "print('\\n')\n",
    "print(myfamily.keys())\n",
    "print('\\n')\n",
    "print(myfamily.values())\n",
    "print('\\n')\n",
    "print(myfamily.items())\n"
   ]
  },
  {
   "cell_type": "code",
   "execution_count": 23,
   "metadata": {},
   "outputs": [
    {
     "name": "stdout",
     "output_type": "stream",
     "text": [
      "{'c1': {'name': 'Emil', 'year': 2004}, 'c2': {'name': 'Tobias', 'year': 2007}, 'c3': {'name': 'Linus', 'year': 2011}}\n"
     ]
    }
   ],
   "source": [
    "#Create three dictionaries, then create one dictionary that will contain the other three dictionaries:\n",
    "\n",
    "child1 = {\n",
    "  \"name\" : \"Emil\",\n",
    "  \"year\" : 2004\n",
    "}\n",
    "\n",
    "child2 = {\n",
    "  \"name\" : \"Tobias\",\n",
    "  \"year\" : 2007\n",
    "}\n",
    "\n",
    "child3 = {\n",
    "  \"name\" : \"Linus\",\n",
    "  \"year\" : 2011\n",
    "}\n",
    "\n",
    "myfamily = {\n",
    "  \"c1\" : child1,\n",
    "  \"c2\" : child2,\n",
    "  \"c3\" : child3\n",
    "}\n",
    "print(myfamily)\n"
   ]
  },
  {
   "cell_type": "code",
   "execution_count": 24,
   "metadata": {},
   "outputs": [
    {
     "data": {
      "text/plain": [
       "dict_keys(['c1', 'c2', 'c3'])"
      ]
     },
     "execution_count": 24,
     "metadata": {},
     "output_type": "execute_result"
    }
   ],
   "source": [
    "myfamily.keys()"
   ]
  },
  {
   "cell_type": "code",
   "execution_count": 26,
   "metadata": {},
   "outputs": [
    {
     "data": {
      "text/plain": [
       "dict_values([{'name': 'Emil', 'year': 2004}, {'name': 'Tobias', 'year': 2007}, {'name': 'Linus', 'year': 2011}])"
      ]
     },
     "execution_count": 26,
     "metadata": {},
     "output_type": "execute_result"
    }
   ],
   "source": [
    "myfamily.values()"
   ]
  },
  {
   "cell_type": "code",
   "execution_count": 10,
   "metadata": {},
   "outputs": [
    {
     "data": {
      "text/plain": [
       "'hello'"
      ]
     },
     "execution_count": 10,
     "metadata": {},
     "output_type": "execute_result"
    }
   ],
   "source": [
    "d = {'simple_key':'hello'}\n",
    "# Grab 'hello'\n",
    "d['simple_key']"
   ]
  },
  {
   "cell_type": "code",
   "execution_count": 11,
   "metadata": {},
   "outputs": [
    {
     "data": {
      "text/plain": [
       "'hello'"
      ]
     },
     "execution_count": 11,
     "metadata": {},
     "output_type": "execute_result"
    }
   ],
   "source": [
    "d = {'k1':{'k2':'hello'}}\n",
    "# Grab 'hello'\n",
    "d['k1']['k2']"
   ]
  },
  {
   "cell_type": "code",
   "execution_count": 12,
   "metadata": {},
   "outputs": [
    {
     "data": {
      "text/plain": [
       "'hello'"
      ]
     },
     "execution_count": 12,
     "metadata": {},
     "output_type": "execute_result"
    }
   ],
   "source": [
    "# Getting a little tricker\n",
    "d = {'k1':[{'nest_key':['this is deep',['hello']]}]}\n",
    "\n",
    "#Grab hello\n",
    "d['k1'][0]['nest_key'][1][0]"
   ]
  },
  {
   "cell_type": "code",
   "execution_count": 1,
   "metadata": {},
   "outputs": [],
   "source": [
    "d={'k1':[1,2,{'k2':['this is tricky',{'tough':[1,2,['hello']]}]}]}"
   ]
  },
  {
   "cell_type": "code",
   "execution_count": 2,
   "metadata": {},
   "outputs": [
    {
     "data": {
      "text/plain": [
       "'hello'"
      ]
     },
     "execution_count": 2,
     "metadata": {},
     "output_type": "execute_result"
    }
   ],
   "source": [
    "d['k1'][2]['k2'][1]['tough'][2][0]"
   ]
  },
  {
   "cell_type": "code",
   "execution_count": null,
   "metadata": {},
   "outputs": [],
   "source": []
  }
 ],
 "metadata": {
  "kernelspec": {
   "display_name": "Python 3",
   "language": "python",
   "name": "python3"
  },
  "language_info": {
   "codemirror_mode": {
    "name": "ipython",
    "version": 3
   },
   "file_extension": ".py",
   "mimetype": "text/x-python",
   "name": "python",
   "nbconvert_exporter": "python",
   "pygments_lexer": "ipython3",
   "version": "3.8.5"
  }
 },
 "nbformat": 4,
 "nbformat_minor": 4
}
