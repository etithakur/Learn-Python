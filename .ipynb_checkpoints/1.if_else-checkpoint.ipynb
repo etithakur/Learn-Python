{
 "cells": [
  {
   "cell_type": "code",
   "execution_count": 2,
   "metadata": {},
   "outputs": [
    {
     "name": "stdout",
     "output_type": "stream",
     "text": [
      "Enter first value: 4\n",
      "Enter second value: 0\n",
      "Enter third value: 9\n",
      "9 is greater\n"
     ]
    }
   ],
   "source": [
    "#### Make a program to compare 3 values, take values from user(Hint: use 'and' operator)\n",
    "\n",
    "#taking integer input from user\n",
    "a = int(input('Enter first value: '))\n",
    "b = int(input('Enter second value: '))\n",
    "c = int(input('Enter third value: '))\n",
    "\n",
    "if(a>b and a>c):\n",
    "    print('{} is greater'.format(a))\n",
    "elif(b>c and b>a):\n",
    "    print('{} is greater'.format(b))\n",
    "else:\n",
    "    print('{} is greater'.format(c))\n",
    "    \n",
    "# 'and' operator is used if want both the conditions to be true to return True otherwise False."
   ]
  },
  {
   "cell_type": "code",
   "execution_count": 3,
   "metadata": {},
   "outputs": [
    {
     "name": "stdout",
     "output_type": "stream",
     "text": [
      "Enter number: 6\n",
      "6 is even\n"
     ]
    }
   ],
   "source": [
    "#### Take a number from user and check that the number is odd or even\n",
    "\n",
    "num = int(input('Enter number: '))\n",
    "\n",
    "if(num%2==0):\n",
    "    print('{} is even'.format(num))\n",
    "else:\n",
    "    print('{} is odd.'.format(num))"
   ]
  },
  {
   "cell_type": "code",
   "execution_count": 8,
   "metadata": {},
   "outputs": [
    {
     "name": "stdout",
     "output_type": "stream",
     "text": [
      "Enter lower limit: 3\n",
      "Enter upper limit: 9\n",
      "3 --> Odd\n",
      "4 --> Even\n",
      "5 --> Odd\n",
      "6 --> Even\n",
      "7 --> Odd\n",
      "8 --> Even\n",
      "9 --> Odd\n"
     ]
    }
   ],
   "source": [
    "####  Print whether a number is odd or even between a given range\n",
    "\n",
    "lower_limit=int(input('Enter lower limit: '))\n",
    "upper_limit=int(input('Enter upper limit: '))\n",
    "\n",
    "if(lower_limit<=upper_limit):\n",
    "    for i in range(lower_limit, upper_limit+1):\n",
    "        if(i%2==0):\n",
    "            print('{} --> Even'.format(i))\n",
    "        else:\n",
    "            print('{} --> Odd'.format(i))\n",
    "else:\n",
    "    print(\"Upper limit should always be gr`eater than or equal to the lower limit.\")"
   ]
  },
  {
   "cell_type": "code",
   "execution_count": 6,
   "metadata": {},
   "outputs": [
    {
     "name": "stdout",
     "output_type": "stream",
     "text": [
      "Enter number 1: 9\n",
      "Enter number 2: 2\n",
      "Value is positive.\n"
     ]
    }
   ],
   "source": [
    "#### Find whether the subtraction of two numbers is resulting in zero, positive or negative value \n",
    "\n",
    "a = int(input('Enter number 1: '))\n",
    "b = int(input('Enter number 2: '))\n",
    "\n",
    "c= a-b\n",
    "\n",
    "if(c>0):\n",
    "    print('Value is positive.')\n",
    "elif(c==0):\n",
    "    print('Value is 0')\n",
    "else:\n",
    "    print('Value is negative.')"
   ]
  },
  {
   "cell_type": "code",
   "execution_count": 10,
   "metadata": {},
   "outputs": [
    {
     "name": "stdout",
     "output_type": "stream",
     "text": [
      "Enter a character: 43\n",
      "It is a digit.\n"
     ]
    }
   ],
   "source": [
    "#### Tell if the input taken from user is a digit or not.\n",
    "\n",
    "a = input(\"Enter a character: \")\n",
    "\n",
    "if(a.isdigit()):\n",
    "    print(\"It is a digit.\")\n",
    "else:\n",
    "    print(\"It is not a digit.\")\n",
    "    \n",
    "#isdigit() is a function which returns true for a digit and false if it's not a digit"
   ]
  },
  {
   "cell_type": "code",
   "execution_count": 11,
   "metadata": {},
   "outputs": [
    {
     "name": "stdout",
     "output_type": "stream",
     "text": [
      "Enter a character: ab\n",
      "It is an alphabet.\n"
     ]
    }
   ],
   "source": [
    "#### Tell if the input taken from the user is alphabet or not.\n",
    "\n",
    "a = input(\"Enter a character: \")\n",
    "\n",
    "if(a.isalpha()):\n",
    "    print(\"It is an alphabet.\")\n",
    "else:\n",
    "    print(\"It is not an alphabet.\")\n",
    "    \n",
    "#isalpha() is a function which returns true for an alphabet and false otherwise."
   ]
  },
  {
   "cell_type": "code",
   "execution_count": 17,
   "metadata": {},
   "outputs": [
    {
     "name": "stdout",
     "output_type": "stream",
     "text": [
      "Enter number of entries you want to make 1\n",
      "\n",
      "Enter name and marks of 5 subjects out of 10, use comma to seperate values Lexi, 9, 10, 1, 5, 2\n",
      "\n",
      "\n",
      "Name and marks of student  1 are Lexi 9.0 10.0 1.0 5.0 2.0\n",
      "Total sum and average marks of Lexi are: 27.0,54.0\n",
      "Grade C\n"
     ]
    }
   ],
   "source": [
    "#### Take student name and marks of 5 subjects from user to check the total sum and aveage marks and assign grade through the \n",
    "#### following grading system:\n",
    "#### if percentage is greater than or equal to 90: Grade A\n",
    "#### if percentage is greater than or equal to 70: Grade B\n",
    "#### if percentage is greater than or equal to 50: Grade C\n",
    "#### otherwise: Grade D\n",
    "\n",
    "num=int(input(\"Enter number of entries you want to make \"))\n",
    "\n",
    "for i in range(num):\n",
    "    n,m1,m2,m3,m4,m5=input(\"\\nEnter name and marks of 5 subjects out of 10, use comma to seperate values \").split(sep=\",\")\n",
    "    \n",
    "    #coverting the datatype of marks from character to float\n",
    "    m1=float(m1)\n",
    "    m2=float(m2)\n",
    "    m3=float(m3)\n",
    "    m4=float(m4)\n",
    "    m5=float(m5)\n",
    "    \n",
    "    print(\"\\n\\nName and marks of student \",i+1,\"are\", n,m1,m2,m3,m4,m5)\n",
    "    \n",
    "    sum1=0\n",
    "    sum1=m1+m2+m3+m4+m5\n",
    "    percent=(sum1/50)*100\n",
    "    \n",
    "    print(\"Total sum and average marks of {} are: {},{}\".format(n,sum1,round(percent,2)))\n",
    "    \n",
    "    if(percent>=90):\n",
    "        print(\"Grade A\")\n",
    "    elif(percent>=70):\n",
    "        print(\"Grade B\")\n",
    "    elif(percent>=50):\n",
    "        print(\"Grade C\")\n",
    "    else:\n",
    "        print(\"Grade D\")"
   ]
  }
 ],
 "metadata": {
  "kernelspec": {
   "display_name": "Python 3",
   "language": "python",
   "name": "python3"
  },
  "language_info": {
   "codemirror_mode": {
    "name": "ipython",
    "version": 3
   },
   "file_extension": ".py",
   "mimetype": "text/x-python",
   "name": "python",
   "nbconvert_exporter": "python",
   "pygments_lexer": "ipython3",
   "version": "3.8.5"
  }
 },
 "nbformat": 4,
 "nbformat_minor": 4
}
