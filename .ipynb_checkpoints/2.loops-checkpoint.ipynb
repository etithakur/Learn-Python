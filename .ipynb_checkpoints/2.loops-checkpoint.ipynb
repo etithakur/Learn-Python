{
 "cells": [
  {
   "cell_type": "code",
   "execution_count": null,
   "metadata": {},
   "outputs": [],
   "source": [
    "####################### while loop ##################################\n",
    "\n",
    "# a while loop allows general repetition based upon the repeated testing of a Boolean condition.\n",
    "# Syntax:\n",
    "# while <condition>:\n",
    "#       <body>\n"
   ]
  },
  {
   "cell_type": "code",
   "execution_count": null,
   "metadata": {},
   "outputs": [],
   "source": [
    "###################### for loop #######################################\n",
    "\n",
    "# python's for-loop syntax is a more convenient alternative to a while loop when iterating a series of elements.\n",
    "# The for-loop syntax can be used on any type of iterable structure, such as list, tuple, str, set, dict, etc.\n",
    "\n",
    "# range() - It is used along with for-loop. It returns a sequence of numbers, starting from 0 (by default), and increments by \n",
    "# 1(by default), and ends at a specified number. Syntax: range(start, stop, step)"
   ]
  },
  {
   "cell_type": "code",
   "execution_count": null,
   "metadata": {},
   "outputs": [],
   "source": [
    "################## unconditional branching statements#################\n",
    "\n",
    "# python has an unconditional branching statements and they are, 1. break statement 2. continue statement\n",
    "# these are used in the loops\n",
    "# break statement exits the loop instantly\n",
    "# continue statement skips the particular iteration"
   ]
  },
  {
   "cell_type": "markdown",
   "metadata": {},
   "source": [
    "### While loops"
   ]
  },
  {
   "cell_type": "code",
   "execution_count": 1,
   "metadata": {},
   "outputs": [
    {
     "name": "stdout",
     "output_type": "stream",
     "text": [
      "1\n",
      "2\n",
      "3\n",
      "4\n",
      "5\n",
      "6\n",
      "7\n",
      "8\n",
      "9\n",
      "10\n",
      "This is outside of while loop.\n"
     ]
    }
   ],
   "source": [
    "#### print numbers from 1 to 10\n",
    "\n",
    "i=1\n",
    "while(i<=10):\n",
    "    print(i)\n",
    "    i+=1 # i+=1 is same as i=i+1\n",
    "    \n",
    "print(\"This is outside of while loop.\")"
   ]
  },
  {
   "cell_type": "code",
   "execution_count": 2,
   "metadata": {},
   "outputs": [
    {
     "name": "stdout",
     "output_type": "stream",
     "text": [
      "55\n"
     ]
    }
   ],
   "source": [
    "#### program to add first 10 natural numbers\n",
    "#### sum=1+2+3+...+10\n",
    "\n",
    "sum=0\n",
    "i=1\n",
    "\n",
    "while(i<=10):\n",
    "    sum+=i\n",
    "    i+=1\n",
    "    \n",
    "print(sum)"
   ]
  },
  {
   "cell_type": "code",
   "execution_count": 3,
   "metadata": {},
   "outputs": [
    {
     "name": "stdout",
     "output_type": "stream",
     "text": [
      "Enter n: 10\n",
      "55\n"
     ]
    }
   ],
   "source": [
    "#### take a value of n from user and then print the sum of n natural numbers.\n",
    "\n",
    "sum=0\n",
    "i=1\n",
    "n=int(input('Enter the limit: '))\n",
    "\n",
    "while(i<=n):\n",
    "    sum+=i\n",
    "    i+=1\n",
    "\n",
    "print(sum)"
   ]
  },
  {
   "cell_type": "markdown",
   "metadata": {},
   "source": [
    "### for loops"
   ]
  },
  {
   "cell_type": "code",
   "execution_count": 4,
   "metadata": {},
   "outputs": [
    {
     "name": "stdout",
     "output_type": "stream",
     "text": [
      "0\n",
      "1\n",
      "2\n",
      "3\n",
      "4\n",
      "5\n",
      "6\n",
      "7\n"
     ]
    }
   ],
   "source": [
    "#### this program prints number from 0 to 7\n",
    "\n",
    "for i in range(8):\n",
    "    print(i)"
   ]
  },
  {
   "cell_type": "code",
   "execution_count": 5,
   "metadata": {},
   "outputs": [
    {
     "name": "stdout",
     "output_type": "stream",
     "text": [
      "2\n",
      "3\n",
      "4\n",
      "5\n",
      "6\n",
      "7\n",
      "8\n"
     ]
    }
   ],
   "source": [
    "#### this program prints number from 2 to 8\n",
    "\n",
    "for i in range(2, 9):\n",
    "    print(i)"
   ]
  },
  {
   "cell_type": "code",
   "execution_count": 6,
   "metadata": {},
   "outputs": [
    {
     "name": "stdout",
     "output_type": "stream",
     "text": [
      "2\n",
      "5\n",
      "8\n",
      "11\n",
      "14\n",
      "17\n"
     ]
    }
   ],
   "source": [
    "#### this program prints number from 2 to 17 with each value incremented by 3\n",
    "\n",
    "for i in range(2, 18 , 3):\n",
    "    print(i)"
   ]
  },
  {
   "cell_type": "code",
   "execution_count": 9,
   "metadata": {},
   "outputs": [
    {
     "name": "stdout",
     "output_type": "stream",
     "text": [
      "5\n",
      "7\n",
      "9\n",
      "11\n",
      "13\n",
      "15\n",
      "17\n",
      "19\n",
      "21\n",
      "23\n",
      "25\n",
      "27\n",
      "29\n"
     ]
    }
   ],
   "source": [
    "#### this program prints all the odd numbers from 4 to 29\n",
    "\n",
    "for i in range(4, 30, 2):\n",
    "    print(i+1)"
   ]
  },
  {
   "cell_type": "code",
   "execution_count": null,
   "metadata": {},
   "outputs": [],
   "source": [
    "# display all even nos between lower lim and upper lim, take this range from user\n",
    "\n",
    "lower=int(input('Enter lower limit: '))\n",
    "upper=int(input('Enter upper limit: '))\n",
    "\n",
    "for i in range(lower, upper+1, 2):\n",
    "    print(i+1)"
   ]
  },
  {
   "cell_type": "code",
   "execution_count": 10,
   "metadata": {},
   "outputs": [
    {
     "name": "stdout",
     "output_type": "stream",
     "text": [
      "f\n",
      "l\n",
      "o\n",
      "w\n",
      "e\n",
      "r\n"
     ]
    }
   ],
   "source": [
    "# traversing through the string and printing it.\n",
    "\n",
    "i=\"flower\"\n",
    "for x in i:\n",
    "    print(x)"
   ]
  },
  {
   "cell_type": "code",
   "execution_count": 11,
   "metadata": {},
   "outputs": [
    {
     "name": "stdout",
     "output_type": "stream",
     "text": [
      "f\n",
      "l\n"
     ]
    }
   ],
   "source": [
    "# traversing and printing the string till we find 'o' in the string \n",
    "\n",
    "i=\"flower\"\n",
    "for x in i:\n",
    "    if(x=='o'):\n",
    "        break\n",
    "    else:\n",
    "        print(x)"
   ]
  },
  {
   "cell_type": "code",
   "execution_count": 12,
   "metadata": {},
   "outputs": [
    {
     "name": "stdout",
     "output_type": "stream",
     "text": [
      "f\n",
      "l\n",
      "w\n",
      "e\n",
      "r\n"
     ]
    }
   ],
   "source": [
    "# traversing and printing the string but skipping the element 'o' \n",
    "\n",
    "i=\"flower\"\n",
    "for x in i:\n",
    "    if(x=='o'):\n",
    "        continue\n",
    "    else:\n",
    "        print(x)"
   ]
  },
  {
   "cell_type": "code",
   "execution_count": 13,
   "metadata": {},
   "outputs": [
    {
     "name": "stdout",
     "output_type": "stream",
     "text": [
      "3\n",
      "4\n",
      "5\n",
      "6\n",
      "7\n"
     ]
    }
   ],
   "source": [
    "# printing the elements from 3 to 11 till we get a 8.\n",
    "\n",
    "for i in range(3,12):\n",
    "    if(i==8):\n",
    "        break\n",
    "    else:\n",
    "        print(i)"
   ]
  },
  {
   "cell_type": "code",
   "execution_count": 14,
   "metadata": {},
   "outputs": [
    {
     "name": "stdout",
     "output_type": "stream",
     "text": [
      "3\n",
      "4\n",
      "5\n",
      "7\n",
      "8\n",
      "9\n",
      "10\n",
      "11\n"
     ]
    }
   ],
   "source": [
    "# printing from 3 to 11 but skipping '6'.\n",
    "\n",
    "for i in range(3,12):\n",
    "    if(i==6):\n",
    "        continue\n",
    "    else:\n",
    "        print(i)"
   ]
  },
  {
   "cell_type": "code",
   "execution_count": 15,
   "metadata": {},
   "outputs": [
    {
     "name": "stdout",
     "output_type": "stream",
     "text": [
      "3\n",
      "5\n",
      "6\n",
      "7\n",
      "9\n",
      "10\n",
      "11\n"
     ]
    }
   ],
   "source": [
    "# printing from 3 to 11 but skipping if we find either '4' or '8'\n",
    "\n",
    "for i in range(3,12):\n",
    "    if(i==4 or i==8):\n",
    "        continue\n",
    "    else:\n",
    "        print(i)"
   ]
  },
  {
   "cell_type": "code",
   "execution_count": 17,
   "metadata": {},
   "outputs": [
    {
     "name": "stdout",
     "output_type": "stream",
     "text": [
      "0 \n",
      "0 1 \n",
      "0 1 2 \n",
      "0 1 2 3 \n"
     ]
    }
   ],
   "source": [
    "# print this pattern\n",
    "# 0\n",
    "# 0 1\n",
    "# 0 1 2\n",
    "# 0 1 2 3\n",
    "\n",
    "for j in range(1,5):\n",
    "    for i in range(j):\n",
    "        print(i, end=' ')\n",
    "    print()"
   ]
  },
  {
   "cell_type": "code",
   "execution_count": null,
   "metadata": {},
   "outputs": [],
   "source": []
  }
 ],
 "metadata": {
  "kernelspec": {
   "display_name": "Python 3",
   "language": "python",
   "name": "python3"
  },
  "language_info": {
   "codemirror_mode": {
    "name": "ipython",
    "version": 3
   },
   "file_extension": ".py",
   "mimetype": "text/x-python",
   "name": "python",
   "nbconvert_exporter": "python",
   "pygments_lexer": "ipython3",
   "version": "3.8.5"
  }
 },
 "nbformat": 4,
 "nbformat_minor": 4
}
